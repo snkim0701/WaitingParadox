{
 "cells": [
  {
   "cell_type": "markdown",
   "metadata": {},
   "source": [
    "#  버스 대기 시간 03/04\n",
    "\n",
    "##  \n",
    "\n",
    " Jake 의 [blog](http://jakevdp.github.io/blog/2018/09/13/waiting-time-paradox/)\n",
    " \n",
    "  ## 문제: 탑승자가 정류장에 도착해서  버스를 기다리는 시간의 평균값\n",
    "    \n",
    "1. Model :  \n",
    "    \n",
    "    - 탑승자가 정류장 도착하는 시간 \n",
    "    - 버스가 정류장 도착 시간   \n",
    "    \n",
    "2. 1 차 가정 : 단순 생각 \n",
    "    \n",
    "    - 탑승자 정류장 도착 시간:  uniform distribution인 random variable \n",
    "    - 버스의 정류장 도착 시간의  간격은  상수:   예)  10분    \n",
    "    - Waiting Time = (10/2)분\n",
    "      \n",
    "    \n",
    "3. 2차 가정 (실제상황을 묘사)\n",
    "\n",
    " 3.1 가정\n",
    "   \n",
    "    - 버스의 정류장  도착 시간은 주변 상황에 따라 변함 : 버스 도착 시간 간격은 r.v. \n",
    "    - 이 경우 두 개의 random variables 에 대한 문제이다    \n",
    "        \n",
    " 3.2 개념(Inspection Paradox) \n",
    "    \n",
    "    버스가 도착하는 시간이 random 하면  버스 도착 시간 간격이 변하게 된다. 이 경우 탑승자가 도착해서 \n",
    "    해서 기다리는 시간은 시간 간격이 긴 경우 기다리는 시간은 더 길게 되고. 따라서 탑승자가 긴 시간 동안 \n",
    "    도착하는 확률도 커지게 된다. 즉 탑승자의 도착 시간은 uniform 하게 도착하지만,기다리는 시간이 길면\n",
    "    더 많은 사람들이 기다리고, 따라서 더 길게 된다.  (예;  observing / observed, 평균 교실 학급 수\n",
    "    인원[Allen Downey.](http://allendowney.blogspot.com/2015/08/the-inspection-paradox-is-everywhere.html)\n",
    "    )\n",
    "    \n",
    " 3.3 Simulation \n",
    "    simulation 결과 = 탑승자 대기 시간 = 10분 !! \n",
    "    \n",
    " 3.4 검증\n",
    "    \n",
    "    simulation 결과를 확인해 봄. \n",
    "    \n",
    "\n",
    "    \n",
    "    "
   ]
  },
  {
   "cell_type": "markdown",
   "metadata": {},
   "source": [
    "## 버스 도착 시간 = bus_arrival_times,     \n",
    "    -rand.rand(1000000): 1000000개 (0,1) uniform r.v.    \n",
    "    -버스 도착 시간의 간격 = 10 분\n",
    "    -rand.rand(N) : (0,1) 사이의 값을 갖는 N개 r.v. \n",
    "    -np.sort(rand.rand(N)) : 순서가 정해진 N 개 r.v.\n",
    "    -N * tau * np.sort(rand.rand(N)) :  인접한 두 개의 r.v.'s 의  간격  평균이 tau인 N개 r.v.\n",
    "        \n",
    "    -평균 탑승자 대기 시간 = 10분 "
   ]
  },
  {
   "cell_type": "markdown",
   "metadata": {},
   "source": [
    "# Jake's [blog](http://jakevdp.github.io/blog/2018/09/13/waiting-time-paradox/)\n",
    "\n",
    "```python\n",
    "import numpy as np\n",
    "\n",
    "N = 1000000  # number of buses\n",
    "tau = 10  # average minutes between arrivals\n",
    "\n",
    "rand = np.random.RandomState(42)  # universal random seed\n",
    "bus_arrival_times = N * tau * np.sort(rand.rand(N))\n",
    "\n",
    "intervals = np.diff(bus_arrival_times)\n",
    "intervals.mean()\n",
    "\n",
    "# waiting time 계산 \n",
    "def simulate_wait_times(arrival_times,\n",
    "                        rseed=8675309,  # Jenny's random seed\n",
    "                        n_passengers=1000000):\n",
    "    rand = np.random.RandomState(rseed)\n",
    "    \n",
    "    arrival_times = np.asarray(arrival_times)\n",
    "    passenger_times = arrival_times.max() * rand.rand(n_passengers)\n",
    "\n",
    "    # find the index of the next bus for each simulated passenger\n",
    "    i = np.searchsorted(arrival_times, passenger_times, side='right')\n",
    "\n",
    "    return arrival_times[i] - passenger_times\n",
    "\n",
    "\n",
    "wait_times = simulate_wait_times(bus_arrival_times)\n",
    "wait_times.mean()\n",
    "```"
   ]
  },
  {
   "cell_type": "markdown",
   "metadata": {},
   "source": [
    " 3.4 검증\n",
    "    \n",
    " - $T$ = 버스 도착시간 간격, 평균이 10분인 r.v.\n",
    " - what is    __$p(T)$__ ?    \n",
    "\n",
    "$$\n",
    "E[T] = \\int_0^\\infty T~p(T)~dT = 10분(위 simulation 결과 )\n",
    "$$\n",
    " - 탑승자 대기 시간  확률 = $P_탑$ \n",
    "    - $P_탑$는  $p(T)$ 에 비례하고 또 __$T$__ 도 비례한다\n",
    "    \n",
    "    - $P_탑$ $\\propto$ $Tp(T)$ \n",
    "    \n",
    "    - $$\n",
    "        p_{탑}(T) = \\frac{T~p(T)}{\\int_0^\\infty T~p(T)~dT}\n",
    "      $$\n",
    "      \n",
    "    - 탑승자 대기 시간의 평균 = $E(W) = E(T)/2 = \\frac{1}{2}\\int_0^\\infty T~p_{exp}(T)~dT$\n",
    "\n",
    "$$\n",
    "E[W] = \\frac{E[T^2]}{2E[T]}\n",
    "$$\n",
    "\n",
    " ##  따라서 :  What is  $p(T)$ and  How to compute the integrals."
   ]
  },
  {
   "cell_type": "markdown",
   "metadata": {},
   "source": [
    " 3.5 $p(T)$  simulation으로 구하기 "
   ]
  },
  {
   "cell_type": "markdown",
   "metadata": {},
   "source": [
    "     \n",
    "### Jake's [blog](http://jakevdp.github.io/blog/2018/09/13/waiting-time-paradox/)\n",
    "\n",
    "```python\n",
    "%matplotlib inline\n",
    "import matplotlib.pyplot as plt\n",
    "plt.style.use('seaborn')\n",
    "\n",
    "plt.hist(intervals, bins=np.arange(80), density=True)\n",
    "plt.axvline(intervals.mean(), color='black', linestyle='dotted')\n",
    "plt.xlabel('Interval between arrivals (minutes)')\n",
    "plt.ylabel('Probability density');\n",
    "\n",
    "```"
   ]
  },
  {
   "attachments": {},
   "cell_type": "markdown",
   "metadata": {},
   "source": [
    "###  markdown image upload  - image file이 local directory 에 있어야 된다\n",
    "\n",
    "![prob](untitled.png)"
   ]
  },
  {
   "cell_type": "markdown",
   "metadata": {},
   "source": [
    "그림에서 버스 도착 시간 간격의 확률 밀도(histogram으로 작성)는 exponential 함수이다. exponential 을 갖는 확률 밀도 함수는  *Poisson Process*가 유사하다. 또 는 Beta didtribution도 있다. 만약 Poisson이라고 가정하면 double  check로 일정 시간동안 도착한 버스노 Poisson Process를 가지므로 확인한다\n",
    "\n",
    "버스 도착시간은 평균적으로 10분에 한 대 씩이므로 한 시간에 몇 대가 도착했는 지 확인한다"
   ]
  },
  {
   "cell_type": "markdown",
   "metadata": {},
   "source": [
    "```python\n",
    "from scipy.stats import poisson\n",
    "\n",
    "# count the number of arrivals in 1-hour bins\n",
    "binsize = 60\n",
    "binned_arrivals = np.bincount((bus_arrival_times // binsize).astype(int))\n",
    "```"
   ]
  },
  {
   "cell_type": "markdown",
   "metadata": {},
   "source": [
    "시간당 최대 도착한 버스수는 \n",
    "```python\n",
    "max =np.bincount((bus_arrival_times//60).astype(int)).max()\n",
    "max  \n",
    "```"
   ]
  },
  {
   "cell_type": "markdown",
   "metadata": {},
   "source": [
    "19대 이므로 histogram의 최대 x 축의 크기를 20으로 하고 simualtion 한 histogram과 poisson process를 비교하면  \n",
    "\n",
    "```python\n",
    "x = np.arange(20)\n",
    "\n",
    "# plot the results\n",
    "plt.hist(binned_arrivals, bins=x - 0.5, density=True, alpha=0.5, label='simulation')\n",
    "plt.plot(x, poisson(binsize / tau).pmf(x), 'ok', label='Poisson prediction')\n",
    "plt.xlabel('Number of arrivals per hour')\n",
    "plt.ylabel('frequency')\n",
    "plt.legend();\n",
    "```"
   ]
  },
  {
   "cell_type": "markdown",
   "metadata": {},
   "source": [
    "![prob](poisson_pmf.png)"
   ]
  },
  {
   "cell_type": "markdown",
   "metadata": {},
   "source": [
    "poisson distribution과 유사하다. 따라서 $p(T)$는 \n",
    "$$\n",
    "p(T) = \\frac{1}{\\tau}e^{-T/\\tau}\n",
    "$$\n",
    "이 것을 이용하여 탑승자가 대기하는 평균시간을 계산하면 \n",
    "$$\n",
    "E[W] = \\frac{\\int_0^\\infty T^2~e^{-T/\\tau}}{2\\int_0^\\infty T~e^{-T/\\tau}} = \\frac{2\\tau^3}{2(\\tau^2)} = \\tau\n",
    "$$\n",
    "\n",
    "즉 이 경우 탑승자의 평균 대기 시간은 버스가 도착하는 평균 시간 간격과 일치한다!!\n",
    "이 결과는 버스가 도착하는 시간 간격이 일정할 경우 5분 이었으나 , 시간 간격이 평균 10분인 Poisson Process로 모델링한한\n",
    "경우는 10이다. 어느 것이 실제 상황과 유사한가?\n",
    "Poisson Process는 Memoryless process로 이 전 시간에 얼마나 길 던지 상관 없이  탑승자의 대기 시간은 항상 10분이다.\n",
    "즉 탑승자는 이 전에 얼마 만큼 기다렸는 지에 상관이 없다. 지금 시점에서 대기 시간이 10분이다.\n"
   ]
  },
  {
   "cell_type": "markdown",
   "metadata": {},
   "source": [
    "### 실제 data를 가지고 분석\n",
    "4.실제 data\n"
   ]
  },
  {
   "cell_type": "markdown",
   "metadata": {},
   "source": [
    "Seattle의 실제 버스 정류장에서 버스 schedule data [Seatlle_arrival_times.csv](arrival_times.csv)를 살펴 보자\n",
    "실제 버스가 도착한 시간 간격은 Poisson 보다는 Gaussina에 가깝고 또 탑승자 대기 시간의 평균은 버스 도착 시간 \n",
    "간격보다 그 것의 반 값 더하기 1~ 2분 정도이다.\n",
    "\n",
    "\n",
    "5. # 교훈: 가정은 검정 해야 한다. "
   ]
  },
  {
   "cell_type": "markdown",
   "metadata": {},
   "source": [
    "![prob](real.png)"
   ]
  }
 ],
 "metadata": {
  "kernelspec": {
   "display_name": "Python 3",
   "language": "python",
   "name": "python3"
  },
  "language_info": {
   "codemirror_mode": {
    "name": "ipython",
    "version": 3
   },
   "file_extension": ".py",
   "mimetype": "text/x-python",
   "name": "python",
   "nbconvert_exporter": "python",
   "pygments_lexer": "ipython3",
   "version": "3.7.1"
  }
 },
 "nbformat": 4,
 "nbformat_minor": 2
}
